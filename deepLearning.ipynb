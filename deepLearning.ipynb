{
 "cells": [
  {
   "cell_type": "code",
   "execution_count": 233,
   "metadata": {},
   "outputs": [],
   "source": [
    "import pandas as pd\n",
    "from dotenv import load_dotenv\n",
    "from utils import get_engine\n",
    "from sqlalchemy import text\n",
    "from sklearn.preprocessing import OneHotEncoder, RobustScaler\n",
    "from sklearn.compose import ColumnTransformer\n",
    "from sklearn.model_selection import train_test_split\n",
    "from sklearn.pipeline import Pipeline"
   ]
  },
  {
   "cell_type": "code",
   "execution_count": 234,
   "metadata": {},
   "outputs": [],
   "source": [
    "load_dotenv()\n",
    "engine = get_engine(echo_arg=True)"
   ]
  },
  {
   "cell_type": "code",
   "execution_count": 235,
   "metadata": {},
   "outputs": [
    {
     "name": "stdout",
     "output_type": "stream",
     "text": [
      "2023-06-15 20:27:49,997 INFO sqlalchemy.engine.Engine select pg_catalog.version()\n",
      "2023-06-15 20:27:50,000 INFO sqlalchemy.engine.Engine [raw sql] {}\n",
      "2023-06-15 20:27:50,043 INFO sqlalchemy.engine.Engine select current_schema()\n",
      "2023-06-15 20:27:50,045 INFO sqlalchemy.engine.Engine [raw sql] {}\n",
      "2023-06-15 20:27:50,090 INFO sqlalchemy.engine.Engine show standard_conforming_strings\n",
      "2023-06-15 20:27:50,092 INFO sqlalchemy.engine.Engine [raw sql] {}\n",
      "2023-06-15 20:27:50,134 INFO sqlalchemy.engine.Engine BEGIN (implicit)\n",
      "2023-06-15 20:27:50,145 INFO sqlalchemy.engine.Engine SELECT pg_catalog.pg_class.relname \n",
      "FROM pg_catalog.pg_class JOIN pg_catalog.pg_namespace ON pg_catalog.pg_namespace.oid = pg_catalog.pg_class.relnamespace \n",
      "WHERE pg_catalog.pg_class.relname = %(table_name)s AND pg_catalog.pg_class.relkind = ANY (ARRAY[%(param_1)s, %(param_2)s, %(param_3)s, %(param_4)s, %(param_5)s]) AND pg_catalog.pg_table_is_visible(pg_catalog.pg_class.oid) AND pg_catalog.pg_namespace.nspname != %(nspname_1)s\n",
      "2023-06-15 20:27:50,148 INFO sqlalchemy.engine.Engine [generated in 0.00271s] {'table_name': <sqlalchemy.sql.elements.TextClause object at 0x7fae7665bd90>, 'param_1': 'r', 'param_2': 'p', 'param_3': 'f', 'param_4': 'v', 'param_5': 'm', 'nspname_1': 'pg_catalog'}\n",
      "2023-06-15 20:27:50,151 INFO sqlalchemy.engine.Engine SELECT * FROM \"CO2_bulding_filtered_feauturs_selection\"; \n",
      "2023-06-15 20:27:50,153 INFO sqlalchemy.engine.Engine [generated in 0.00220s] {}\n",
      "2023-06-15 20:27:50,408 INFO sqlalchemy.engine.Engine COMMIT\n"
     ]
    }
   ],
   "source": [
    "with engine.begin() as conn:\n",
    "    query = text(\"\"\"SELECT * FROM \"CO2_bulding_filtered_feauturs_selection\"; \"\"\")\n",
    "    df = pd.read_sql(query, conn)"
   ]
  },
  {
   "cell_type": "code",
   "execution_count": 236,
   "metadata": {},
   "outputs": [],
   "source": [
    "X_cols = ['YearBuilt', 'Have_Stream_Energy', 'Have_Electricity_Energy',\n",
    "       'Have_NaturalGas_Energy', 'BuildingType', 'PrimaryPropertyType',\n",
    "       'Neighborhood', 'NumberofBuildings',\n",
    "       'NumberofFloors', 'PropertyGFATotal', 'PropertyGFAParking',\n",
    "       'PropertyGFABuilding_s_', 'LargestPropertyUseTypeGFA']\n",
    "X = df[X_cols]"
   ]
  },
  {
   "cell_type": "code",
   "execution_count": 237,
   "metadata": {},
   "outputs": [],
   "source": [
    "y = df['TotalGHGEmissions']"
   ]
  },
  {
   "cell_type": "code",
   "execution_count": 238,
   "metadata": {},
   "outputs": [
    {
     "name": "stderr",
     "output_type": "stream",
     "text": [
      "/tmp/ipykernel_255155/2630812360.py:2: SettingWithCopyWarning: \n",
      "A value is trying to be set on a copy of a slice from a DataFrame.\n",
      "Try using .loc[row_indexer,col_indexer] = value instead\n",
      "\n",
      "See the caveats in the documentation: https://pandas.pydata.org/pandas-docs/stable/user_guide/indexing.html#returning-a-view-versus-a-copy\n",
      "  X[bool_cols]= X[bool_cols].apply(lambda x: x.apply(lambda x: 1 if x else 0))\n"
     ]
    }
   ],
   "source": [
    "bool_cols = ['Have_Stream_Energy', 'Have_Electricity_Energy','Have_NaturalGas_Energy']\n",
    "X[bool_cols]= X[bool_cols].apply(lambda x: x.apply(lambda x: 1 if x else 0))"
   ]
  },
  {
   "cell_type": "code",
   "execution_count": 239,
   "metadata": {},
   "outputs": [],
   "source": [
    "X_cat = X.select_dtypes(include=[object])\n",
    "X_num = X.select_dtypes(exclude=[object])"
   ]
  },
  {
   "cell_type": "code",
   "execution_count": 240,
   "metadata": {},
   "outputs": [],
   "source": [
    "preparation = ColumnTransformer(transformers=[\n",
    "    ('tf_cat', OneHotEncoder(sparse_output=False, handle_unknown='ignore'), X_cat.columns),\n",
    "    ('tf_num', RobustScaler(), X_num.columns)\n",
    "])"
   ]
  },
  {
   "cell_type": "code",
   "execution_count": 241,
   "metadata": {},
   "outputs": [],
   "source": [
    "from keras import Sequential\n",
    "from keras.layers import Dense\n",
    "from keras.callbacks import ModelCheckpoint"
   ]
  },
  {
   "cell_type": "code",
   "execution_count": 243,
   "metadata": {},
   "outputs": [],
   "source": [
    "X_train, X_test, y_train, y_test = train_test_split(X, y, test_size=0.2, random_state=42)\n",
    "X_tf_train = preparation.fit_transform(X_train)\n",
    "X_tf_test = preparation.fit_transform(X_test)"
   ]
  },
  {
   "cell_type": "code",
   "execution_count": 244,
   "metadata": {},
   "outputs": [
    {
     "name": "stdout",
     "output_type": "stream",
     "text": [
      "Model: \"sequential_16\"\n",
      "_________________________________________________________________\n",
      " Layer (type)                Output Shape              Param #   \n",
      "=================================================================\n",
      " dense_71 (Dense)            (None, 128)               7808      \n",
      "                                                                 \n",
      " dense_72 (Dense)            (None, 256)               33024     \n",
      "                                                                 \n",
      " dense_73 (Dense)            (None, 256)               65792     \n",
      "                                                                 \n",
      " dense_74 (Dense)            (None, 256)               65792     \n",
      "                                                                 \n",
      " dense_75 (Dense)            (None, 1)                 257       \n",
      "                                                                 \n",
      "=================================================================\n",
      "Total params: 172,673\n",
      "Trainable params: 172,673\n",
      "Non-trainable params: 0\n",
      "_________________________________________________________________\n"
     ]
    }
   ],
   "source": [
    "NN_model = Sequential()\n",
    "\n",
    "# The Input Layer :\n",
    "NN_model.add(Dense(128, kernel_initializer='normal',input_dim = X_tf_train.shape[1], activation='relu'))\n",
    "\n",
    "# The Hidden Layers :\n",
    "NN_model.add(Dense(256, kernel_initializer='normal',activation='relu'))\n",
    "NN_model.add(Dense(256, kernel_initializer='normal',activation='relu'))\n",
    "NN_model.add(Dense(256, kernel_initializer='normal',activation='relu'))\n",
    "\n",
    "# The Output Layer :\n",
    "NN_model.add(Dense(1, kernel_initializer='normal',activation='linear'))\n",
    "\n",
    "# Compile the network :\n",
    "NN_model.compile(loss='mean_absolute_error', optimizer='adam', metrics=['mean_absolute_error'])\n",
    "NN_model.summary()"
   ]
  },
  {
   "cell_type": "code",
   "execution_count": null,
   "metadata": {},
   "outputs": [],
   "source": [
    "# checkpoint_name = 'Weights-{epoch:03d}--{val_loss:.5f}.hdf5' \n",
    "# checkpoint = ModelCheckpoint(checkpoint_name, monitor='val_loss', verbose = 1, save_best_only = True, mode ='auto')\n",
    "# callbacks_list = [checkpoint]"
   ]
  },
  {
   "cell_type": "code",
   "execution_count": 246,
   "metadata": {},
   "outputs": [
    {
     "name": "stdout",
     "output_type": "stream",
     "text": [
      "Epoch 1/100\n",
      "68/68 [==============================] - 4s 21ms/step - loss: 136.2131 - mean_absolute_error: 136.2131 - val_loss: 55.0093 - val_mean_absolute_error: 55.0093\n",
      "Epoch 2/100\n",
      "68/68 [==============================] - 1s 13ms/step - loss: 124.2777 - mean_absolute_error: 124.2777 - val_loss: 54.2365 - val_mean_absolute_error: 54.2365\n",
      "Epoch 3/100\n",
      "68/68 [==============================] - 1s 10ms/step - loss: 122.8308 - mean_absolute_error: 122.8308 - val_loss: 53.9626 - val_mean_absolute_error: 53.9626\n",
      "Epoch 4/100\n",
      "68/68 [==============================] - 1s 10ms/step - loss: 122.4714 - mean_absolute_error: 122.4714 - val_loss: 54.2809 - val_mean_absolute_error: 54.2809\n",
      "Epoch 5/100\n",
      "68/68 [==============================] - 1s 10ms/step - loss: 122.4450 - mean_absolute_error: 122.4450 - val_loss: 54.6223 - val_mean_absolute_error: 54.6223\n",
      "Epoch 6/100\n",
      "68/68 [==============================] - 1s 11ms/step - loss: 122.5143 - mean_absolute_error: 122.5143 - val_loss: 54.0169 - val_mean_absolute_error: 54.0169\n",
      "Epoch 7/100\n",
      "68/68 [==============================] - 1s 11ms/step - loss: 122.0023 - mean_absolute_error: 122.0023 - val_loss: 53.8508 - val_mean_absolute_error: 53.8508\n",
      "Epoch 8/100\n",
      "68/68 [==============================] - 1s 11ms/step - loss: 121.7293 - mean_absolute_error: 121.7293 - val_loss: 53.0527 - val_mean_absolute_error: 53.0527\n",
      "Epoch 9/100\n",
      "68/68 [==============================] - 1s 11ms/step - loss: 121.6163 - mean_absolute_error: 121.6163 - val_loss: 53.6458 - val_mean_absolute_error: 53.6458\n",
      "Epoch 10/100\n",
      "68/68 [==============================] - 1s 10ms/step - loss: 121.7217 - mean_absolute_error: 121.7217 - val_loss: 54.3488 - val_mean_absolute_error: 54.3488\n",
      "Epoch 11/100\n",
      "68/68 [==============================] - 1s 11ms/step - loss: 121.4154 - mean_absolute_error: 121.4154 - val_loss: 54.1184 - val_mean_absolute_error: 54.1184\n",
      "Epoch 12/100\n",
      "68/68 [==============================] - 1s 11ms/step - loss: 122.7285 - mean_absolute_error: 122.7285 - val_loss: 54.2543 - val_mean_absolute_error: 54.2543\n",
      "Epoch 13/100\n",
      "68/68 [==============================] - 1s 11ms/step - loss: 121.4907 - mean_absolute_error: 121.4907 - val_loss: 54.3316 - val_mean_absolute_error: 54.3316\n",
      "Epoch 14/100\n",
      "68/68 [==============================] - 1s 14ms/step - loss: 121.3406 - mean_absolute_error: 121.3406 - val_loss: 59.1166 - val_mean_absolute_error: 59.1166\n",
      "Epoch 15/100\n",
      "68/68 [==============================] - 1s 11ms/step - loss: 121.2509 - mean_absolute_error: 121.2509 - val_loss: 56.7750 - val_mean_absolute_error: 56.7750\n",
      "Epoch 16/100\n",
      "68/68 [==============================] - 1s 11ms/step - loss: 120.9761 - mean_absolute_error: 120.9761 - val_loss: 53.9536 - val_mean_absolute_error: 53.9536\n",
      "Epoch 17/100\n",
      "68/68 [==============================] - 1s 11ms/step - loss: 120.6621 - mean_absolute_error: 120.6621 - val_loss: 56.2293 - val_mean_absolute_error: 56.2293\n",
      "Epoch 18/100\n",
      "68/68 [==============================] - 1s 11ms/step - loss: 120.5701 - mean_absolute_error: 120.5701 - val_loss: 55.8725 - val_mean_absolute_error: 55.8725\n",
      "Epoch 19/100\n",
      "68/68 [==============================] - 1s 11ms/step - loss: 120.1753 - mean_absolute_error: 120.1753 - val_loss: 56.3409 - val_mean_absolute_error: 56.3409\n",
      "Epoch 20/100\n",
      "68/68 [==============================] - 1s 11ms/step - loss: 120.1196 - mean_absolute_error: 120.1196 - val_loss: 53.6339 - val_mean_absolute_error: 53.6339\n",
      "Epoch 21/100\n",
      "68/68 [==============================] - 1s 14ms/step - loss: 120.0775 - mean_absolute_error: 120.0775 - val_loss: 56.5330 - val_mean_absolute_error: 56.5330\n",
      "Epoch 22/100\n",
      "68/68 [==============================] - 1s 13ms/step - loss: 119.3801 - mean_absolute_error: 119.3801 - val_loss: 55.1663 - val_mean_absolute_error: 55.1663\n",
      "Epoch 23/100\n",
      "68/68 [==============================] - 1s 12ms/step - loss: 119.0280 - mean_absolute_error: 119.0280 - val_loss: 55.1234 - val_mean_absolute_error: 55.1234\n",
      "Epoch 24/100\n",
      "68/68 [==============================] - 1s 14ms/step - loss: 118.8036 - mean_absolute_error: 118.8036 - val_loss: 55.2608 - val_mean_absolute_error: 55.2608\n",
      "Epoch 25/100\n",
      "68/68 [==============================] - 1s 12ms/step - loss: 118.5455 - mean_absolute_error: 118.5455 - val_loss: 59.8377 - val_mean_absolute_error: 59.8377\n",
      "Epoch 26/100\n",
      "68/68 [==============================] - 1s 11ms/step - loss: 118.3856 - mean_absolute_error: 118.3856 - val_loss: 59.9132 - val_mean_absolute_error: 59.9132\n",
      "Epoch 27/100\n",
      "68/68 [==============================] - 1s 11ms/step - loss: 117.9575 - mean_absolute_error: 117.9575 - val_loss: 54.1648 - val_mean_absolute_error: 54.1648\n",
      "Epoch 28/100\n",
      "68/68 [==============================] - 1s 11ms/step - loss: 117.4848 - mean_absolute_error: 117.4848 - val_loss: 58.1888 - val_mean_absolute_error: 58.1888\n",
      "Epoch 29/100\n",
      "68/68 [==============================] - 1s 11ms/step - loss: 116.9377 - mean_absolute_error: 116.9377 - val_loss: 63.1521 - val_mean_absolute_error: 63.1521\n",
      "Epoch 30/100\n",
      "68/68 [==============================] - 1s 12ms/step - loss: 116.7977 - mean_absolute_error: 116.7977 - val_loss: 54.4528 - val_mean_absolute_error: 54.4528\n",
      "Epoch 31/100\n",
      "68/68 [==============================] - 1s 16ms/step - loss: 116.5158 - mean_absolute_error: 116.5158 - val_loss: 56.3942 - val_mean_absolute_error: 56.3942\n",
      "Epoch 32/100\n",
      "68/68 [==============================] - 1s 15ms/step - loss: 116.0296 - mean_absolute_error: 116.0296 - val_loss: 58.9627 - val_mean_absolute_error: 58.9627\n",
      "Epoch 33/100\n",
      "68/68 [==============================] - 1s 14ms/step - loss: 115.7453 - mean_absolute_error: 115.7453 - val_loss: 59.7209 - val_mean_absolute_error: 59.7209\n",
      "Epoch 34/100\n",
      "68/68 [==============================] - 1s 13ms/step - loss: 115.2755 - mean_absolute_error: 115.2755 - val_loss: 59.1068 - val_mean_absolute_error: 59.1068\n",
      "Epoch 35/100\n",
      "68/68 [==============================] - 1s 13ms/step - loss: 115.2052 - mean_absolute_error: 115.2052 - val_loss: 60.3013 - val_mean_absolute_error: 60.3013\n",
      "Epoch 36/100\n",
      "68/68 [==============================] - 1s 17ms/step - loss: 114.1263 - mean_absolute_error: 114.1263 - val_loss: 63.1312 - val_mean_absolute_error: 63.1312\n",
      "Epoch 37/100\n",
      "68/68 [==============================] - 1s 14ms/step - loss: 113.8966 - mean_absolute_error: 113.8966 - val_loss: 62.9043 - val_mean_absolute_error: 62.9043\n",
      "Epoch 38/100\n",
      "68/68 [==============================] - 1s 20ms/step - loss: 113.4737 - mean_absolute_error: 113.4737 - val_loss: 60.3296 - val_mean_absolute_error: 60.3296\n",
      "Epoch 39/100\n",
      "68/68 [==============================] - 1s 16ms/step - loss: 113.6969 - mean_absolute_error: 113.6969 - val_loss: 60.7084 - val_mean_absolute_error: 60.7084\n",
      "Epoch 40/100\n",
      "68/68 [==============================] - 1s 13ms/step - loss: 112.9952 - mean_absolute_error: 112.9952 - val_loss: 59.5534 - val_mean_absolute_error: 59.5534\n",
      "Epoch 41/100\n",
      "68/68 [==============================] - 2s 23ms/step - loss: 112.5010 - mean_absolute_error: 112.5010 - val_loss: 59.7105 - val_mean_absolute_error: 59.7105\n",
      "Epoch 42/100\n",
      "68/68 [==============================] - 1s 19ms/step - loss: 112.6650 - mean_absolute_error: 112.6650 - val_loss: 65.1158 - val_mean_absolute_error: 65.1158\n",
      "Epoch 43/100\n",
      "68/68 [==============================] - 1s 15ms/step - loss: 111.7423 - mean_absolute_error: 111.7423 - val_loss: 60.4086 - val_mean_absolute_error: 60.4086\n",
      "Epoch 44/100\n",
      "68/68 [==============================] - 1s 16ms/step - loss: 111.8066 - mean_absolute_error: 111.8066 - val_loss: 62.0168 - val_mean_absolute_error: 62.0168\n",
      "Epoch 45/100\n",
      "68/68 [==============================] - 1s 19ms/step - loss: 111.3416 - mean_absolute_error: 111.3416 - val_loss: 62.9716 - val_mean_absolute_error: 62.9716\n",
      "Epoch 46/100\n",
      "68/68 [==============================] - 1s 15ms/step - loss: 111.0729 - mean_absolute_error: 111.0729 - val_loss: 59.5578 - val_mean_absolute_error: 59.5578\n",
      "Epoch 47/100\n",
      "68/68 [==============================] - 1s 20ms/step - loss: 110.6855 - mean_absolute_error: 110.6855 - val_loss: 59.8357 - val_mean_absolute_error: 59.8357\n",
      "Epoch 48/100\n",
      "68/68 [==============================] - 1s 16ms/step - loss: 110.3397 - mean_absolute_error: 110.3397 - val_loss: 69.4877 - val_mean_absolute_error: 69.4877\n",
      "Epoch 49/100\n",
      "68/68 [==============================] - 1s 14ms/step - loss: 109.2964 - mean_absolute_error: 109.2964 - val_loss: 65.8392 - val_mean_absolute_error: 65.8392\n",
      "Epoch 50/100\n",
      "68/68 [==============================] - 1s 16ms/step - loss: 109.2004 - mean_absolute_error: 109.2004 - val_loss: 62.0641 - val_mean_absolute_error: 62.0641\n",
      "Epoch 51/100\n",
      "68/68 [==============================] - 1s 12ms/step - loss: 108.7251 - mean_absolute_error: 108.7251 - val_loss: 64.9714 - val_mean_absolute_error: 64.9714\n",
      "Epoch 52/100\n",
      "68/68 [==============================] - 1s 16ms/step - loss: 108.2530 - mean_absolute_error: 108.2530 - val_loss: 62.0461 - val_mean_absolute_error: 62.0461\n",
      "Epoch 53/100\n",
      "68/68 [==============================] - 1s 12ms/step - loss: 108.2394 - mean_absolute_error: 108.2394 - val_loss: 63.8477 - val_mean_absolute_error: 63.8477\n",
      "Epoch 54/100\n",
      "68/68 [==============================] - 1s 12ms/step - loss: 107.7625 - mean_absolute_error: 107.7625 - val_loss: 66.5020 - val_mean_absolute_error: 66.5020\n",
      "Epoch 55/100\n",
      "68/68 [==============================] - 1s 13ms/step - loss: 107.0630 - mean_absolute_error: 107.0630 - val_loss: 67.2049 - val_mean_absolute_error: 67.2049\n",
      "Epoch 56/100\n",
      "68/68 [==============================] - 1s 18ms/step - loss: 106.5545 - mean_absolute_error: 106.5545 - val_loss: 67.5951 - val_mean_absolute_error: 67.5951\n",
      "Epoch 57/100\n",
      "68/68 [==============================] - 1s 22ms/step - loss: 106.5267 - mean_absolute_error: 106.5267 - val_loss: 67.5086 - val_mean_absolute_error: 67.5086\n",
      "Epoch 58/100\n",
      "68/68 [==============================] - 1s 13ms/step - loss: 105.9213 - mean_absolute_error: 105.9213 - val_loss: 66.3458 - val_mean_absolute_error: 66.3458\n",
      "Epoch 59/100\n",
      "68/68 [==============================] - 1s 16ms/step - loss: 105.5938 - mean_absolute_error: 105.5938 - val_loss: 67.2702 - val_mean_absolute_error: 67.2702\n",
      "Epoch 60/100\n",
      "68/68 [==============================] - 1s 16ms/step - loss: 105.8813 - mean_absolute_error: 105.8813 - val_loss: 68.2797 - val_mean_absolute_error: 68.2797\n",
      "Epoch 61/100\n",
      "68/68 [==============================] - 1s 12ms/step - loss: 104.8770 - mean_absolute_error: 104.8770 - val_loss: 67.0300 - val_mean_absolute_error: 67.0300\n",
      "Epoch 62/100\n",
      "68/68 [==============================] - 1s 16ms/step - loss: 104.6844 - mean_absolute_error: 104.6844 - val_loss: 66.9591 - val_mean_absolute_error: 66.9591\n",
      "Epoch 63/100\n",
      "68/68 [==============================] - 1s 12ms/step - loss: 103.4159 - mean_absolute_error: 103.4159 - val_loss: 66.1173 - val_mean_absolute_error: 66.1173\n",
      "Epoch 64/100\n",
      "68/68 [==============================] - 1s 12ms/step - loss: 103.2932 - mean_absolute_error: 103.2932 - val_loss: 69.3909 - val_mean_absolute_error: 69.3909\n",
      "Epoch 65/100\n",
      "68/68 [==============================] - 1s 12ms/step - loss: 102.9807 - mean_absolute_error: 102.9807 - val_loss: 69.8237 - val_mean_absolute_error: 69.8237\n",
      "Epoch 66/100\n",
      "68/68 [==============================] - 1s 14ms/step - loss: 102.1042 - mean_absolute_error: 102.1042 - val_loss: 68.9301 - val_mean_absolute_error: 68.9301\n",
      "Epoch 67/100\n",
      "68/68 [==============================] - 1s 12ms/step - loss: 102.4310 - mean_absolute_error: 102.4310 - val_loss: 73.5843 - val_mean_absolute_error: 73.5843\n",
      "Epoch 68/100\n",
      "68/68 [==============================] - 1s 12ms/step - loss: 102.0316 - mean_absolute_error: 102.0316 - val_loss: 73.9049 - val_mean_absolute_error: 73.9049\n",
      "Epoch 69/100\n",
      "68/68 [==============================] - 1s 14ms/step - loss: 101.6297 - mean_absolute_error: 101.6297 - val_loss: 70.1900 - val_mean_absolute_error: 70.1900\n",
      "Epoch 70/100\n",
      "68/68 [==============================] - 1s 12ms/step - loss: 101.0621 - mean_absolute_error: 101.0621 - val_loss: 74.0578 - val_mean_absolute_error: 74.0578\n",
      "Epoch 71/100\n",
      "68/68 [==============================] - 1s 12ms/step - loss: 100.7183 - mean_absolute_error: 100.7183 - val_loss: 74.7155 - val_mean_absolute_error: 74.7155\n",
      "Epoch 72/100\n",
      "68/68 [==============================] - 1s 12ms/step - loss: 100.3340 - mean_absolute_error: 100.3340 - val_loss: 69.4643 - val_mean_absolute_error: 69.4643\n",
      "Epoch 73/100\n",
      "68/68 [==============================] - 1s 12ms/step - loss: 100.7851 - mean_absolute_error: 100.7851 - val_loss: 66.7999 - val_mean_absolute_error: 66.7999\n",
      "Epoch 74/100\n",
      "68/68 [==============================] - 1s 15ms/step - loss: 99.6279 - mean_absolute_error: 99.6279 - val_loss: 69.1512 - val_mean_absolute_error: 69.1512\n",
      "Epoch 75/100\n",
      "68/68 [==============================] - 1s 13ms/step - loss: 99.1787 - mean_absolute_error: 99.1787 - val_loss: 74.4195 - val_mean_absolute_error: 74.4195\n",
      "Epoch 76/100\n",
      "68/68 [==============================] - 1s 12ms/step - loss: 99.0402 - mean_absolute_error: 99.0402 - val_loss: 72.5841 - val_mean_absolute_error: 72.5841\n",
      "Epoch 77/100\n",
      "68/68 [==============================] - 1s 12ms/step - loss: 98.9171 - mean_absolute_error: 98.9171 - val_loss: 72.1475 - val_mean_absolute_error: 72.1475\n",
      "Epoch 78/100\n",
      "68/68 [==============================] - 1s 12ms/step - loss: 98.0871 - mean_absolute_error: 98.0871 - val_loss: 72.5568 - val_mean_absolute_error: 72.5568\n",
      "Epoch 79/100\n",
      "68/68 [==============================] - 1s 14ms/step - loss: 98.3631 - mean_absolute_error: 98.3631 - val_loss: 69.7409 - val_mean_absolute_error: 69.7409\n",
      "Epoch 80/100\n",
      "68/68 [==============================] - 1s 14ms/step - loss: 98.2608 - mean_absolute_error: 98.2608 - val_loss: 74.2152 - val_mean_absolute_error: 74.2152\n",
      "Epoch 81/100\n",
      "68/68 [==============================] - 1s 14ms/step - loss: 98.0803 - mean_absolute_error: 98.0803 - val_loss: 76.8831 - val_mean_absolute_error: 76.8831\n",
      "Epoch 82/100\n",
      "68/68 [==============================] - 1s 11ms/step - loss: 97.2689 - mean_absolute_error: 97.2689 - val_loss: 73.7792 - val_mean_absolute_error: 73.7792\n",
      "Epoch 83/100\n",
      "68/68 [==============================] - 1s 11ms/step - loss: 97.7530 - mean_absolute_error: 97.7530 - val_loss: 73.3174 - val_mean_absolute_error: 73.3174\n",
      "Epoch 84/100\n",
      "68/68 [==============================] - 1s 12ms/step - loss: 96.9277 - mean_absolute_error: 96.9277 - val_loss: 75.8447 - val_mean_absolute_error: 75.8447\n",
      "Epoch 85/100\n",
      "68/68 [==============================] - 1s 14ms/step - loss: 97.2373 - mean_absolute_error: 97.2373 - val_loss: 72.3379 - val_mean_absolute_error: 72.3379\n",
      "Epoch 86/100\n",
      "68/68 [==============================] - 1s 13ms/step - loss: 96.2736 - mean_absolute_error: 96.2736 - val_loss: 71.3293 - val_mean_absolute_error: 71.3293\n",
      "Epoch 87/100\n",
      "68/68 [==============================] - 1s 11ms/step - loss: 96.2024 - mean_absolute_error: 96.2024 - val_loss: 72.2922 - val_mean_absolute_error: 72.2922\n",
      "Epoch 88/100\n",
      "68/68 [==============================] - 1s 13ms/step - loss: 95.7618 - mean_absolute_error: 95.7618 - val_loss: 74.2839 - val_mean_absolute_error: 74.2839\n",
      "Epoch 89/100\n",
      "68/68 [==============================] - 1s 11ms/step - loss: 95.4538 - mean_absolute_error: 95.4538 - val_loss: 76.6969 - val_mean_absolute_error: 76.6969\n",
      "Epoch 90/100\n",
      "68/68 [==============================] - 1s 12ms/step - loss: 94.7421 - mean_absolute_error: 94.7421 - val_loss: 74.5106 - val_mean_absolute_error: 74.5106\n",
      "Epoch 91/100\n",
      "68/68 [==============================] - 1s 12ms/step - loss: 95.1498 - mean_absolute_error: 95.1498 - val_loss: 73.0635 - val_mean_absolute_error: 73.0635\n",
      "Epoch 92/100\n",
      "68/68 [==============================] - 1s 12ms/step - loss: 94.5471 - mean_absolute_error: 94.5471 - val_loss: 76.5321 - val_mean_absolute_error: 76.5321\n",
      "Epoch 93/100\n",
      "68/68 [==============================] - 1s 10ms/step - loss: 94.1124 - mean_absolute_error: 94.1124 - val_loss: 75.7812 - val_mean_absolute_error: 75.7812\n",
      "Epoch 94/100\n",
      "68/68 [==============================] - 1s 10ms/step - loss: 93.7352 - mean_absolute_error: 93.7352 - val_loss: 76.2661 - val_mean_absolute_error: 76.2661\n",
      "Epoch 95/100\n",
      "68/68 [==============================] - 1s 10ms/step - loss: 93.8972 - mean_absolute_error: 93.8972 - val_loss: 78.6411 - val_mean_absolute_error: 78.6411\n",
      "Epoch 96/100\n",
      "68/68 [==============================] - 1s 13ms/step - loss: 92.9806 - mean_absolute_error: 92.9806 - val_loss: 78.6576 - val_mean_absolute_error: 78.6576\n",
      "Epoch 97/100\n",
      "68/68 [==============================] - 1s 12ms/step - loss: 93.0528 - mean_absolute_error: 93.0528 - val_loss: 82.0846 - val_mean_absolute_error: 82.0846\n",
      "Epoch 98/100\n",
      "68/68 [==============================] - 1s 10ms/step - loss: 92.8773 - mean_absolute_error: 92.8773 - val_loss: 76.3538 - val_mean_absolute_error: 76.3538\n",
      "Epoch 99/100\n",
      "68/68 [==============================] - 1s 10ms/step - loss: 92.4683 - mean_absolute_error: 92.4683 - val_loss: 80.0824 - val_mean_absolute_error: 80.0824\n",
      "Epoch 100/100\n",
      "68/68 [==============================] - 1s 12ms/step - loss: 92.5652 - mean_absolute_error: 92.5652 - val_loss: 76.0860 - val_mean_absolute_error: 76.0860\n"
     ]
    },
    {
     "data": {
      "text/plain": [
       "<keras.callbacks.History at 0x7fae763d9850>"
      ]
     },
     "execution_count": 246,
     "metadata": {},
     "output_type": "execute_result"
    }
   ],
   "source": [
    "NN_model.fit(X_tf_train, y, epochs=100, batch_size=32, validation_split = 0.2)"
   ]
  },
  {
   "cell_type": "code",
   "execution_count": 247,
   "metadata": {},
   "outputs": [
    {
     "name": "stdout",
     "output_type": "stream",
     "text": [
      "22/22 [==============================] - 0s 4ms/step\n"
     ]
    }
   ],
   "source": [
    "y_pred = NN_model.predict(X_tf_test)"
   ]
  },
  {
   "cell_type": "code",
   "execution_count": 248,
   "metadata": {},
   "outputs": [
    {
     "name": "stdout",
     "output_type": "stream",
     "text": [
      "-0.17956495164765673\n"
     ]
    }
   ],
   "source": [
    "from sklearn.metrics import r2_score\n",
    "print(r2_score(y_test, y_pred))"
   ]
  }
 ],
 "metadata": {
  "kernelspec": {
   "display_name": "co2",
   "language": "python",
   "name": "python3"
  },
  "language_info": {
   "codemirror_mode": {
    "name": "ipython",
    "version": 3
   },
   "file_extension": ".py",
   "mimetype": "text/x-python",
   "name": "python",
   "nbconvert_exporter": "python",
   "pygments_lexer": "ipython3",
   "version": "3.9.13"
  },
  "orig_nbformat": 4
 },
 "nbformat": 4,
 "nbformat_minor": 2
}
