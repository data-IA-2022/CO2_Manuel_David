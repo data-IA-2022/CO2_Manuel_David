{
 "cells": [
  {
   "cell_type": "code",
   "execution_count": 213,
   "metadata": {},
   "outputs": [],
   "source": [
    "import pandas as pd\n",
    "from utils import get_engine\n",
    "from dotenv import load_dotenv\n",
    "from sqlalchemy import text\n",
    "from sklearn.model_selection import GridSearchCV"
   ]
  },
  {
   "cell_type": "code",
   "execution_count": 215,
   "metadata": {},
   "outputs": [],
   "source": [
    "load_dotenv()\n",
    "engine = get_engine(echo_arg=True)"
   ]
  },
  {
   "cell_type": "code",
   "execution_count": 216,
   "metadata": {},
   "outputs": [
    {
     "name": "stdout",
     "output_type": "stream",
     "text": [
      "2023-06-15 14:28:22,427 INFO sqlalchemy.engine.Engine select pg_catalog.version()\n",
      "2023-06-15 14:28:22,429 INFO sqlalchemy.engine.Engine [raw sql] {}\n",
      "2023-06-15 14:28:22,471 INFO sqlalchemy.engine.Engine select current_schema()\n",
      "2023-06-15 14:28:22,473 INFO sqlalchemy.engine.Engine [raw sql] {}\n",
      "2023-06-15 14:28:22,518 INFO sqlalchemy.engine.Engine show standard_conforming_strings\n",
      "2023-06-15 14:28:22,520 INFO sqlalchemy.engine.Engine [raw sql] {}\n"
     ]
    },
    {
     "name": "stdout",
     "output_type": "stream",
     "text": [
      "2023-06-15 14:28:22,564 INFO sqlalchemy.engine.Engine BEGIN (implicit)\n",
      "2023-06-15 14:28:22,581 INFO sqlalchemy.engine.Engine SELECT pg_catalog.pg_class.relname \n",
      "FROM pg_catalog.pg_class JOIN pg_catalog.pg_namespace ON pg_catalog.pg_namespace.oid = pg_catalog.pg_class.relnamespace \n",
      "WHERE pg_catalog.pg_class.relname = %(table_name)s AND pg_catalog.pg_class.relkind = ANY (ARRAY[%(param_1)s, %(param_2)s, %(param_3)s, %(param_4)s, %(param_5)s]) AND pg_catalog.pg_table_is_visible(pg_catalog.pg_class.oid) AND pg_catalog.pg_namespace.nspname != %(nspname_1)s\n",
      "2023-06-15 14:28:22,583 INFO sqlalchemy.engine.Engine [generated in 0.00287s] {'table_name': <sqlalchemy.sql.elements.TextClause object at 0x7f2f4f8841f0>, 'param_1': 'r', 'param_2': 'p', 'param_3': 'f', 'param_4': 'v', 'param_5': 'm', 'nspname_1': 'pg_catalog'}\n",
      "2023-06-15 14:28:22,588 INFO sqlalchemy.engine.Engine SELECT * FROM \"CO2_bulding_filtered_feauturs_selection\"; \n",
      "2023-06-15 14:28:22,591 INFO sqlalchemy.engine.Engine [generated in 0.00260s] {}\n",
      "2023-06-15 14:28:23,030 INFO sqlalchemy.engine.Engine COMMIT\n"
     ]
    }
   ],
   "source": [
    "with engine.begin() as conn:\n",
    "    query = text(\"\"\"SELECT * FROM \"CO2_bulding_filtered_feauturs_selection\"; \"\"\")\n",
    "    df = pd.read_sql(query, conn)"
   ]
  },
  {
   "cell_type": "code",
   "execution_count": 217,
   "metadata": {},
   "outputs": [],
   "source": [
    "y = df['TotalGHGEmissions']"
   ]
  },
  {
   "cell_type": "code",
   "execution_count": 218,
   "metadata": {},
   "outputs": [],
   "source": [
    "X_cols = ['YearBuilt', 'ENERGYSTARScore', 'Have_Energy',\n",
    "       'Have_Stream_Energy', 'Have_Electricity_Energy',\n",
    "       'Have_NaturalGas_Energy', 'BuildingType', 'PrimaryPropertyType',\n",
    "       'SecondLargestPropertyUseType', 'ThirdLargestPropertyUseType', 'Address', \n",
    "       'Neighborhood', 'NumberofBuildings',\n",
    "       'NumberofFloors', 'PropertyGFATotal', 'PropertyGFAParking',\n",
    "       'PropertyGFABuilding_s_', 'LargestPropertyUseTypeGFA']"
   ]
  },
  {
   "cell_type": "code",
   "execution_count": 219,
   "metadata": {},
   "outputs": [],
   "source": [
    "X = df[X_cols]"
   ]
  },
  {
   "cell_type": "code",
   "execution_count": 220,
   "metadata": {},
   "outputs": [],
   "source": [
    "from sklearn.pipeline import Pipeline\n",
    "from sklearn.compose import ColumnTransformer\n",
    "from sklearn.preprocessing import OneHotEncoder, RobustScaler\n",
    "from sklearn.ensemble import HistGradientBoostingRegressor\n",
    "from sklearn.linear_model import Ridge\n",
    "from xgboost import XGBRegressor"
   ]
  },
  {
   "cell_type": "code",
   "execution_count": 221,
   "metadata": {},
   "outputs": [
    {
     "name": "stderr",
     "output_type": "stream",
     "text": [
      "/tmp/ipykernel_239762/2468965264.py:2: SettingWithCopyWarning: \n",
      "A value is trying to be set on a copy of a slice from a DataFrame.\n",
      "Try using .loc[row_indexer,col_indexer] = value instead\n",
      "\n",
      "See the caveats in the documentation: https://pandas.pydata.org/pandas-docs/stable/user_guide/indexing.html#returning-a-view-versus-a-copy\n",
      "  X[bool_cols]= X[bool_cols].apply(lambda x: x.apply(lambda x: 1 if x else 0))\n"
     ]
    }
   ],
   "source": [
    "bool_cols = ['Have_Energy', 'Have_Stream_Energy', 'Have_Electricity_Energy','Have_NaturalGas_Energy']\n",
    "X[bool_cols]= X[bool_cols].apply(lambda x: x.apply(lambda x: 1 if x else 0))"
   ]
  },
  {
   "cell_type": "code",
   "execution_count": 222,
   "metadata": {},
   "outputs": [],
   "source": [
    "X_cat = X.select_dtypes(include=[object])\n",
    "X_num = X.select_dtypes(exclude=[object])\n",
    "gb = HistGradientBoostingRegressor()\n",
    "xgb = XGBRegressor(objective='reg:squarederror')\n",
    "ridge = Ridge()\n",
    "\n",
    "preparation = ColumnTransformer(transformers=[\n",
    "    ('tf_cat', OneHotEncoder(sparse_output=False, handle_unknown='ignore'), X_cat.columns),\n",
    "    ('tf_num', RobustScaler(), X_num.columns)\n",
    "])\n",
    "pipe_gb = Pipeline(steps=[\n",
    "    ('preparation', preparation),\n",
    "    ('model', gb)\n",
    "])\n",
    "\n",
    "pipe_xgb = Pipeline(steps=[\n",
    "    ('preparation', preparation),\n",
    "    ('model', xgb)\n",
    "])\n",
    "\n",
    "pipe_ridge = Pipeline(steps=[\n",
    "    ('preparation', preparation),\n",
    "    ('model', ridge)\n",
    "])"
   ]
  },
  {
   "cell_type": "code",
   "execution_count": 223,
   "metadata": {},
   "outputs": [],
   "source": [
    "from sklearn.model_selection import train_test_split\n",
    "X_train, X_test, y_train, y_test = train_test_split(X, y, train_size=0.8, random_state=42)"
   ]
  },
  {
   "cell_type": "code",
   "execution_count": 224,
   "metadata": {},
   "outputs": [],
   "source": [
    "params_gbc = {'model__max_iter': [300, 400, 500]}\n",
    "params_xbc = {'model__max_depth': [8, 9, 10]}\n",
    "params_ridge = {'model__solver': ['auto', 'svd']}"
   ]
  },
  {
   "cell_type": "code",
   "execution_count": 225,
   "metadata": {},
   "outputs": [],
   "source": [
    "pipe_list = [pipe_gb, pipe_ridge, pipe_xgb]\n",
    "params_list = [params_gbc, params_ridge, params_xbc]"
   ]
  },
  {
   "cell_type": "code",
   "execution_count": 226,
   "metadata": {},
   "outputs": [
    {
     "name": "stderr",
     "output_type": "stream",
     "text": [
      "2023/06/15 14:28:23 INFO mlflow.utils.autologging_utils: Created MLflow autologging run with ID '85f082664c13406e900d279407908ffc', which will track hyperparameters, performance metrics, model artifacts, and lineage information for the current sklearn workflow\n",
      "2023/06/15 14:28:23 WARNING mlflow.utils: Truncated the value of the key `estimator`. Truncated value: `Pipeline(steps=[('preparation',\n",
      "                 ColumnTransformer(transformers=[('tf_cat',\n",
      "                                                  OneHotEncoder(handle_unknown='ignore',\n",
      "                                                                sparse_output=False),\n",
      "                                                  Index(['BuildingType', 'PrimaryPropertyType', 'SecondLargestPropertyUseType',\n",
      "       'ThirdLargestPropertyUseType', 'Address', 'Neighborhood'],\n",
      "      dtype='object')),\n",
      "            ...`\n",
      "2023/06/15 14:28:24 WARNING mlflow.utils.autologging_utils: MLflow autologging encountered a warning: \"/home/dakoro/Data_IA/TP/CO2_Manuel_David/co2/lib/python3.9/site-packages/mlflow/data/pandas_dataset.py:116: UserWarning: Hint: Inferred schema contains integer column(s). Integer columns in Python cannot represent missing values. If your input data contains missing values at inference time, it will be encoded as floats and will cause a schema enforcement error. The best way to avoid this problem is to infer the model schema based on a realistic data sample (training dataset) that includes missing values. Alternatively, you can declare integer columns as doubles (float64) whenever these columns may have missing values. See `Handling Integers With Missing Values <https://www.mlflow.org/docs/latest/models.html#handling-integers-with-missing-values>`_ for more details.\"\n"
     ]
    },
    {
     "name": "stdout",
     "output_type": "stream",
     "text": [
      "Fitting 5 folds for each of 3 candidates, totalling 15 fits\n",
      "[CV] END ................................model__max_iter=300; total time= 3.5min\n",
      "[CV] END ................................model__max_iter=300; total time= 3.5min\n",
      "[CV] END ................................model__max_iter=300; total time= 3.8min\n",
      "[CV] END ................................model__max_iter=300; total time= 4.0min\n",
      "[CV] END ................................model__max_iter=300; total time= 4.0min\n",
      "[CV] END ................................model__max_iter=400; total time= 5.2min\n",
      "[CV] END ................................model__max_iter=400; total time= 5.4min\n",
      "[CV] END ................................model__max_iter=400; total time= 5.9min\n",
      "[CV] END ................................model__max_iter=400; total time= 4.8min\n",
      "[CV] END ................................model__max_iter=400; total time= 4.7min\n",
      "[CV] END ................................model__max_iter=500; total time= 5.8min\n",
      "[CV] END ................................model__max_iter=500; total time= 5.8min\n",
      "[CV] END ................................model__max_iter=500; total time= 5.9min\n",
      "[CV] END ................................model__max_iter=500; total time= 5.2min\n",
      "[CV] END ................................model__max_iter=500; total time= 5.1min\n"
     ]
    },
    {
     "name": "stderr",
     "output_type": "stream",
     "text": [
      "2023/06/15 14:40:15 WARNING mlflow.utils.autologging_utils: MLflow autologging encountered a warning: \"/home/dakoro/Data_IA/TP/CO2_Manuel_David/co2/lib/python3.9/site-packages/mlflow/models/signature.py:144: UserWarning: Hint: Inferred schema contains integer column(s). Integer columns in Python cannot represent missing values. If your input data contains missing values at inference time, it will be encoded as floats and will cause a schema enforcement error. The best way to avoid this problem is to infer the model schema based on a realistic data sample (training dataset) that includes missing values. Alternatively, you can declare integer columns as doubles (float64) whenever these columns may have missing values. See `Handling Integers With Missing Values <https://www.mlflow.org/docs/latest/models.html#handling-integers-with-missing-values>`_ for more details.\"\n",
      "2023/06/15 14:40:25 INFO mlflow.sklearn.utils: Logging the 5 best runs, no runs will be omitted.\n",
      "2023/06/15 14:40:25 WARNING mlflow.utils: Truncated the value of the key `steps`. Truncated value: `[('preparation', ColumnTransformer(transformers=[('tf_cat',\n",
      "                                 OneHotEncoder(handle_unknown='ignore',\n",
      "                                               sparse_output=False),\n",
      "                                 Index(['BuildingType', 'PrimaryPropertyType', 'SecondLargestPropertyUseType',\n",
      "       'ThirdLargestPropertyUseType', 'Address', 'Neighborhood'],\n",
      "      dtype='object')),\n",
      "                                ('tf_num', RobustScaler(),\n",
      "                                 Ind...`\n",
      "2023/06/15 14:40:25 WARNING mlflow.utils: Truncated the value of the key `preparation`. Truncated value: `ColumnTransformer(transformers=[('tf_cat',\n",
      "                                 OneHotEncoder(handle_unknown='ignore',\n",
      "                                               sparse_output=False),\n",
      "                                 Index(['BuildingType', 'PrimaryPropertyType', 'SecondLargestPropertyUseType',\n",
      "       'ThirdLargestPropertyUseType', 'Address', 'Neighborhood'],\n",
      "      dtype='object')),\n",
      "                                ('tf_num', RobustScaler(),\n",
      "                                 Index(['YearBuilt', ...`\n",
      "2023/06/15 14:40:25 WARNING mlflow.utils: Truncated the value of the key `preparation__transformers`. Truncated value: `[('tf_cat', OneHotEncoder(handle_unknown='ignore', sparse_output=False), Index(['BuildingType', 'PrimaryPropertyType', 'SecondLargestPropertyUseType',\n",
      "       'ThirdLargestPropertyUseType', 'Address', 'Neighborhood'],\n",
      "      dtype='object')), ('tf_num', RobustScaler(), Index(['YearBuilt', 'ENERGYSTARScore', 'Have_Energy', 'Have_Stream_Energy',\n",
      "       'Have_Electricity_Energy', 'Have_NaturalGas_Energy',\n",
      "       'NumberofBuildings', 'NumberofFloors', 'PropertyGFATotal',\n",
      "       'PropertyGFAParking'...`\n",
      "2023/06/15 14:40:25 WARNING mlflow.utils: Truncated the value of the key `steps`. Truncated value: `[('preparation', ColumnTransformer(transformers=[('tf_cat',\n",
      "                                 OneHotEncoder(handle_unknown='ignore',\n",
      "                                               sparse_output=False),\n",
      "                                 Index(['BuildingType', 'PrimaryPropertyType', 'SecondLargestPropertyUseType',\n",
      "       'ThirdLargestPropertyUseType', 'Address', 'Neighborhood'],\n",
      "      dtype='object')),\n",
      "                                ('tf_num', RobustScaler(),\n",
      "                                 Ind...`\n",
      "2023/06/15 14:40:25 WARNING mlflow.utils: Truncated the value of the key `preparation`. Truncated value: `ColumnTransformer(transformers=[('tf_cat',\n",
      "                                 OneHotEncoder(handle_unknown='ignore',\n",
      "                                               sparse_output=False),\n",
      "                                 Index(['BuildingType', 'PrimaryPropertyType', 'SecondLargestPropertyUseType',\n",
      "       'ThirdLargestPropertyUseType', 'Address', 'Neighborhood'],\n",
      "      dtype='object')),\n",
      "                                ('tf_num', RobustScaler(),\n",
      "                                 Index(['YearBuilt', ...`\n",
      "2023/06/15 14:40:25 WARNING mlflow.utils: Truncated the value of the key `preparation__transformers`. Truncated value: `[('tf_cat', OneHotEncoder(handle_unknown='ignore', sparse_output=False), Index(['BuildingType', 'PrimaryPropertyType', 'SecondLargestPropertyUseType',\n",
      "       'ThirdLargestPropertyUseType', 'Address', 'Neighborhood'],\n",
      "      dtype='object')), ('tf_num', RobustScaler(), Index(['YearBuilt', 'ENERGYSTARScore', 'Have_Energy', 'Have_Stream_Energy',\n",
      "       'Have_Electricity_Energy', 'Have_NaturalGas_Energy',\n",
      "       'NumberofBuildings', 'NumberofFloors', 'PropertyGFATotal',\n",
      "       'PropertyGFAParking'...`\n",
      "2023/06/15 14:40:25 WARNING mlflow.utils: Truncated the value of the key `steps`. Truncated value: `[('preparation', ColumnTransformer(transformers=[('tf_cat',\n",
      "                                 OneHotEncoder(handle_unknown='ignore',\n",
      "                                               sparse_output=False),\n",
      "                                 Index(['BuildingType', 'PrimaryPropertyType', 'SecondLargestPropertyUseType',\n",
      "       'ThirdLargestPropertyUseType', 'Address', 'Neighborhood'],\n",
      "      dtype='object')),\n",
      "                                ('tf_num', RobustScaler(),\n",
      "                                 Ind...`\n",
      "2023/06/15 14:40:25 WARNING mlflow.utils: Truncated the value of the key `preparation`. Truncated value: `ColumnTransformer(transformers=[('tf_cat',\n",
      "                                 OneHotEncoder(handle_unknown='ignore',\n",
      "                                               sparse_output=False),\n",
      "                                 Index(['BuildingType', 'PrimaryPropertyType', 'SecondLargestPropertyUseType',\n",
      "       'ThirdLargestPropertyUseType', 'Address', 'Neighborhood'],\n",
      "      dtype='object')),\n",
      "                                ('tf_num', RobustScaler(),\n",
      "                                 Index(['YearBuilt', ...`\n",
      "2023/06/15 14:40:25 WARNING mlflow.utils: Truncated the value of the key `preparation__transformers`. Truncated value: `[('tf_cat', OneHotEncoder(handle_unknown='ignore', sparse_output=False), Index(['BuildingType', 'PrimaryPropertyType', 'SecondLargestPropertyUseType',\n",
      "       'ThirdLargestPropertyUseType', 'Address', 'Neighborhood'],\n",
      "      dtype='object')), ('tf_num', RobustScaler(), Index(['YearBuilt', 'ENERGYSTARScore', 'Have_Energy', 'Have_Stream_Energy',\n",
      "       'Have_Electricity_Energy', 'Have_NaturalGas_Energy',\n",
      "       'NumberofBuildings', 'NumberofFloors', 'PropertyGFATotal',\n",
      "       'PropertyGFAParking'...`\n",
      "2023/06/15 14:40:25 WARNING mlflow.utils.autologging_utils: MLflow autologging encountered a warning: \"/home/dakoro/Data_IA/TP/CO2_Manuel_David/co2/lib/python3.9/site-packages/mlflow/data/pandas_dataset.py:116: UserWarning: Hint: Inferred schema contains integer column(s). Integer columns in Python cannot represent missing values. If your input data contains missing values at inference time, it will be encoded as floats and will cause a schema enforcement error. The best way to avoid this problem is to infer the model schema based on a realistic data sample (training dataset) that includes missing values. Alternatively, you can declare integer columns as doubles (float64) whenever these columns may have missing values. See `Handling Integers With Missing Values <https://www.mlflow.org/docs/latest/models.html#handling-integers-with-missing-values>`_ for more details.\"\n",
      "2023/06/15 14:40:25 INFO mlflow.utils.autologging_utils: Created MLflow autologging run with ID '4ba7fb219c6d460eaff51f9db5284995', which will track hyperparameters, performance metrics, model artifacts, and lineage information for the current sklearn workflow\n",
      "2023/06/15 14:40:25 WARNING mlflow.utils: Truncated the value of the key `estimator`. Truncated value: `Pipeline(steps=[('preparation',\n",
      "                 ColumnTransformer(transformers=[('tf_cat',\n",
      "                                                  OneHotEncoder(handle_unknown='ignore',\n",
      "                                                                sparse_output=False),\n",
      "                                                  Index(['BuildingType', 'PrimaryPropertyType', 'SecondLargestPropertyUseType',\n",
      "       'ThirdLargestPropertyUseType', 'Address', 'Neighborhood'],\n",
      "      dtype='object')),\n",
      "            ...`\n",
      "2023/06/15 14:40:25 WARNING mlflow.utils.autologging_utils: MLflow autologging encountered a warning: \"/home/dakoro/Data_IA/TP/CO2_Manuel_David/co2/lib/python3.9/site-packages/mlflow/data/pandas_dataset.py:116: UserWarning: Hint: Inferred schema contains integer column(s). Integer columns in Python cannot represent missing values. If your input data contains missing values at inference time, it will be encoded as floats and will cause a schema enforcement error. The best way to avoid this problem is to infer the model schema based on a realistic data sample (training dataset) that includes missing values. Alternatively, you can declare integer columns as doubles (float64) whenever these columns may have missing values. See `Handling Integers With Missing Values <https://www.mlflow.org/docs/latest/models.html#handling-integers-with-missing-values>`_ for more details.\"\n"
     ]
    },
    {
     "name": "stdout",
     "output_type": "stream",
     "text": [
      "Fitting 5 folds for each of 2 candidates, totalling 10 fits\n",
      "[CV] END .................................model__solver=auto; total time=   2.9s\n",
      "[CV] END .................................model__solver=auto; total time=   3.5s\n",
      "[CV] END .................................model__solver=auto; total time=   3.6s\n",
      "[CV] END .................................model__solver=auto; total time=   3.7s\n",
      "[CV] END .................................model__solver=auto; total time=   4.0s\n",
      "[CV] END ..................................model__solver=svd; total time=  29.3s\n",
      "[CV] END ..................................model__solver=svd; total time=  28.3s\n",
      "[CV] END ..................................model__solver=svd; total time=  29.7s\n",
      "[CV] END ..................................model__solver=svd; total time=  34.4s\n",
      "[CV] END ..................................model__solver=svd; total time=  27.6s\n"
     ]
    },
    {
     "name": "stderr",
     "output_type": "stream",
     "text": [
      "2023/06/15 14:41:03 WARNING mlflow.utils.autologging_utils: MLflow autologging encountered a warning: \"/home/dakoro/Data_IA/TP/CO2_Manuel_David/co2/lib/python3.9/site-packages/mlflow/models/signature.py:144: UserWarning: Hint: Inferred schema contains integer column(s). Integer columns in Python cannot represent missing values. If your input data contains missing values at inference time, it will be encoded as floats and will cause a schema enforcement error. The best way to avoid this problem is to infer the model schema based on a realistic data sample (training dataset) that includes missing values. Alternatively, you can declare integer columns as doubles (float64) whenever these columns may have missing values. See `Handling Integers With Missing Values <https://www.mlflow.org/docs/latest/models.html#handling-integers-with-missing-values>`_ for more details.\"\n",
      "2023/06/15 14:41:11 INFO mlflow.sklearn.utils: Logging the 5 best runs, no runs will be omitted.\n",
      "2023/06/15 14:41:11 WARNING mlflow.utils: Truncated the value of the key `steps`. Truncated value: `[('preparation', ColumnTransformer(transformers=[('tf_cat',\n",
      "                                 OneHotEncoder(handle_unknown='ignore',\n",
      "                                               sparse_output=False),\n",
      "                                 Index(['BuildingType', 'PrimaryPropertyType', 'SecondLargestPropertyUseType',\n",
      "       'ThirdLargestPropertyUseType', 'Address', 'Neighborhood'],\n",
      "      dtype='object')),\n",
      "                                ('tf_num', RobustScaler(),\n",
      "                                 Ind...`\n",
      "2023/06/15 14:41:11 WARNING mlflow.utils: Truncated the value of the key `preparation`. Truncated value: `ColumnTransformer(transformers=[('tf_cat',\n",
      "                                 OneHotEncoder(handle_unknown='ignore',\n",
      "                                               sparse_output=False),\n",
      "                                 Index(['BuildingType', 'PrimaryPropertyType', 'SecondLargestPropertyUseType',\n",
      "       'ThirdLargestPropertyUseType', 'Address', 'Neighborhood'],\n",
      "      dtype='object')),\n",
      "                                ('tf_num', RobustScaler(),\n",
      "                                 Index(['YearBuilt', ...`\n",
      "2023/06/15 14:41:11 WARNING mlflow.utils: Truncated the value of the key `preparation__transformers`. Truncated value: `[('tf_cat', OneHotEncoder(handle_unknown='ignore', sparse_output=False), Index(['BuildingType', 'PrimaryPropertyType', 'SecondLargestPropertyUseType',\n",
      "       'ThirdLargestPropertyUseType', 'Address', 'Neighborhood'],\n",
      "      dtype='object')), ('tf_num', RobustScaler(), Index(['YearBuilt', 'ENERGYSTARScore', 'Have_Energy', 'Have_Stream_Energy',\n",
      "       'Have_Electricity_Energy', 'Have_NaturalGas_Energy',\n",
      "       'NumberofBuildings', 'NumberofFloors', 'PropertyGFATotal',\n",
      "       'PropertyGFAParking'...`\n",
      "2023/06/15 14:41:11 WARNING mlflow.utils: Truncated the value of the key `steps`. Truncated value: `[('preparation', ColumnTransformer(transformers=[('tf_cat',\n",
      "                                 OneHotEncoder(handle_unknown='ignore',\n",
      "                                               sparse_output=False),\n",
      "                                 Index(['BuildingType', 'PrimaryPropertyType', 'SecondLargestPropertyUseType',\n",
      "       'ThirdLargestPropertyUseType', 'Address', 'Neighborhood'],\n",
      "      dtype='object')),\n",
      "                                ('tf_num', RobustScaler(),\n",
      "                                 Ind...`\n",
      "2023/06/15 14:41:11 WARNING mlflow.utils: Truncated the value of the key `preparation`. Truncated value: `ColumnTransformer(transformers=[('tf_cat',\n",
      "                                 OneHotEncoder(handle_unknown='ignore',\n",
      "                                               sparse_output=False),\n",
      "                                 Index(['BuildingType', 'PrimaryPropertyType', 'SecondLargestPropertyUseType',\n",
      "       'ThirdLargestPropertyUseType', 'Address', 'Neighborhood'],\n",
      "      dtype='object')),\n",
      "                                ('tf_num', RobustScaler(),\n",
      "                                 Index(['YearBuilt', ...`\n",
      "2023/06/15 14:41:11 WARNING mlflow.utils: Truncated the value of the key `preparation__transformers`. Truncated value: `[('tf_cat', OneHotEncoder(handle_unknown='ignore', sparse_output=False), Index(['BuildingType', 'PrimaryPropertyType', 'SecondLargestPropertyUseType',\n",
      "       'ThirdLargestPropertyUseType', 'Address', 'Neighborhood'],\n",
      "      dtype='object')), ('tf_num', RobustScaler(), Index(['YearBuilt', 'ENERGYSTARScore', 'Have_Energy', 'Have_Stream_Energy',\n",
      "       'Have_Electricity_Energy', 'Have_NaturalGas_Energy',\n",
      "       'NumberofBuildings', 'NumberofFloors', 'PropertyGFATotal',\n",
      "       'PropertyGFAParking'...`\n",
      "2023/06/15 14:41:12 WARNING mlflow.utils.autologging_utils: MLflow autologging encountered a warning: \"/home/dakoro/Data_IA/TP/CO2_Manuel_David/co2/lib/python3.9/site-packages/mlflow/data/pandas_dataset.py:116: UserWarning: Hint: Inferred schema contains integer column(s). Integer columns in Python cannot represent missing values. If your input data contains missing values at inference time, it will be encoded as floats and will cause a schema enforcement error. The best way to avoid this problem is to infer the model schema based on a realistic data sample (training dataset) that includes missing values. Alternatively, you can declare integer columns as doubles (float64) whenever these columns may have missing values. See `Handling Integers With Missing Values <https://www.mlflow.org/docs/latest/models.html#handling-integers-with-missing-values>`_ for more details.\"\n",
      "2023/06/15 14:41:12 INFO mlflow.utils.autologging_utils: Created MLflow autologging run with ID '6e8cd53cf8524a6eb54b1cc440128a59', which will track hyperparameters, performance metrics, model artifacts, and lineage information for the current sklearn workflow\n",
      "2023/06/15 14:41:12 WARNING mlflow.utils: Truncated the value of the key `estimator`. Truncated value: `Pipeline(steps=[('preparation',\n",
      "                 ColumnTransformer(transformers=[('tf_cat',\n",
      "                                                  OneHotEncoder(handle_unknown='ignore',\n",
      "                                                                sparse_output=False),\n",
      "                                                  Index(['BuildingType', 'PrimaryPropertyType', 'SecondLargestPropertyUseType',\n",
      "       'ThirdLargestPropertyUseType', 'Address', 'Neighborhood'],\n",
      "      dtype='object')),\n",
      "            ...`\n",
      "2023/06/15 14:41:12 WARNING mlflow.utils.autologging_utils: MLflow autologging encountered a warning: \"/home/dakoro/Data_IA/TP/CO2_Manuel_David/co2/lib/python3.9/site-packages/mlflow/data/pandas_dataset.py:116: UserWarning: Hint: Inferred schema contains integer column(s). Integer columns in Python cannot represent missing values. If your input data contains missing values at inference time, it will be encoded as floats and will cause a schema enforcement error. The best way to avoid this problem is to infer the model schema based on a realistic data sample (training dataset) that includes missing values. Alternatively, you can declare integer columns as doubles (float64) whenever these columns may have missing values. See `Handling Integers With Missing Values <https://www.mlflow.org/docs/latest/models.html#handling-integers-with-missing-values>`_ for more details.\"\n"
     ]
    },
    {
     "name": "stdout",
     "output_type": "stream",
     "text": [
      "Fitting 5 folds for each of 3 candidates, totalling 15 fits\n",
      "[CV] END .................................model__max_depth=8; total time= 2.5min\n",
      "[CV] END .................................model__max_depth=8; total time= 2.6min\n",
      "[CV] END .................................model__max_depth=8; total time= 2.6min\n",
      "[CV] END .................................model__max_depth=8; total time= 2.6min\n",
      "[CV] END .................................model__max_depth=8; total time= 2.6min\n",
      "[CV] END .................................model__max_depth=9; total time= 2.7min\n",
      "[CV] END .................................model__max_depth=9; total time= 2.9min\n",
      "[CV] END .................................model__max_depth=9; total time= 2.9min\n",
      "[CV] END .................................model__max_depth=9; total time= 2.5min\n",
      "[CV] END .................................model__max_depth=9; total time= 2.5min\n",
      "[CV] END ................................model__max_depth=10; total time= 2.6min\n",
      "[CV] END ................................model__max_depth=10; total time= 2.7min\n",
      "[CV] END ................................model__max_depth=10; total time= 2.8min\n",
      "[CV] END ................................model__max_depth=10; total time= 2.7min\n",
      "[CV] END ................................model__max_depth=10; total time= 2.5min\n"
     ]
    },
    {
     "name": "stderr",
     "output_type": "stream",
     "text": [
      "2023/06/15 14:47:13 WARNING mlflow.utils.autologging_utils: MLflow autologging encountered a warning: \"/home/dakoro/Data_IA/TP/CO2_Manuel_David/co2/lib/python3.9/site-packages/mlflow/models/signature.py:144: UserWarning: Hint: Inferred schema contains integer column(s). Integer columns in Python cannot represent missing values. If your input data contains missing values at inference time, it will be encoded as floats and will cause a schema enforcement error. The best way to avoid this problem is to infer the model schema based on a realistic data sample (training dataset) that includes missing values. Alternatively, you can declare integer columns as doubles (float64) whenever these columns may have missing values. See `Handling Integers With Missing Values <https://www.mlflow.org/docs/latest/models.html#handling-integers-with-missing-values>`_ for more details.\"\n",
      "2023/06/15 14:47:24 INFO mlflow.sklearn.utils: Logging the 5 best runs, no runs will be omitted.\n",
      "2023/06/15 14:47:24 WARNING mlflow.utils: Truncated the value of the key `steps`. Truncated value: `[('preparation', ColumnTransformer(transformers=[('tf_cat',\n",
      "                                 OneHotEncoder(handle_unknown='ignore',\n",
      "                                               sparse_output=False),\n",
      "                                 Index(['BuildingType', 'PrimaryPropertyType', 'SecondLargestPropertyUseType',\n",
      "       'ThirdLargestPropertyUseType', 'Address', 'Neighborhood'],\n",
      "      dtype='object')),\n",
      "                                ('tf_num', RobustScaler(),\n",
      "                                 Ind...`\n",
      "2023/06/15 14:47:24 WARNING mlflow.utils: Truncated the value of the key `preparation`. Truncated value: `ColumnTransformer(transformers=[('tf_cat',\n",
      "                                 OneHotEncoder(handle_unknown='ignore',\n",
      "                                               sparse_output=False),\n",
      "                                 Index(['BuildingType', 'PrimaryPropertyType', 'SecondLargestPropertyUseType',\n",
      "       'ThirdLargestPropertyUseType', 'Address', 'Neighborhood'],\n",
      "      dtype='object')),\n",
      "                                ('tf_num', RobustScaler(),\n",
      "                                 Index(['YearBuilt', ...`\n",
      "2023/06/15 14:47:24 WARNING mlflow.utils: Truncated the value of the key `model`. Truncated value: `XGBRegressor(base_score=None, booster=None, callbacks=None,\n",
      "             colsample_bylevel=None, colsample_bynode=None,\n",
      "             colsample_bytree=None, early_stopping_rounds=None,\n",
      "             enable_categorical=False, eval_metric=None, feature_types=None,\n",
      "             gamma=None, gpu_id=None, grow_policy=None, importance_type=None,\n",
      "             interaction_constraints=None, learning_rate=None, max_bin=None,\n",
      "             max_cat_threshold=None, max_cat_to_onehot=None,\n",
      "             max_del...`\n",
      "2023/06/15 14:47:24 WARNING mlflow.utils: Truncated the value of the key `preparation__transformers`. Truncated value: `[('tf_cat', OneHotEncoder(handle_unknown='ignore', sparse_output=False), Index(['BuildingType', 'PrimaryPropertyType', 'SecondLargestPropertyUseType',\n",
      "       'ThirdLargestPropertyUseType', 'Address', 'Neighborhood'],\n",
      "      dtype='object')), ('tf_num', RobustScaler(), Index(['YearBuilt', 'ENERGYSTARScore', 'Have_Energy', 'Have_Stream_Energy',\n",
      "       'Have_Electricity_Energy', 'Have_NaturalGas_Energy',\n",
      "       'NumberofBuildings', 'NumberofFloors', 'PropertyGFATotal',\n",
      "       'PropertyGFAParking'...`\n",
      "2023/06/15 14:47:24 WARNING mlflow.utils: Truncated the value of the key `steps`. Truncated value: `[('preparation', ColumnTransformer(transformers=[('tf_cat',\n",
      "                                 OneHotEncoder(handle_unknown='ignore',\n",
      "                                               sparse_output=False),\n",
      "                                 Index(['BuildingType', 'PrimaryPropertyType', 'SecondLargestPropertyUseType',\n",
      "       'ThirdLargestPropertyUseType', 'Address', 'Neighborhood'],\n",
      "      dtype='object')),\n",
      "                                ('tf_num', RobustScaler(),\n",
      "                                 Ind...`\n",
      "2023/06/15 14:47:24 WARNING mlflow.utils: Truncated the value of the key `preparation`. Truncated value: `ColumnTransformer(transformers=[('tf_cat',\n",
      "                                 OneHotEncoder(handle_unknown='ignore',\n",
      "                                               sparse_output=False),\n",
      "                                 Index(['BuildingType', 'PrimaryPropertyType', 'SecondLargestPropertyUseType',\n",
      "       'ThirdLargestPropertyUseType', 'Address', 'Neighborhood'],\n",
      "      dtype='object')),\n",
      "                                ('tf_num', RobustScaler(),\n",
      "                                 Index(['YearBuilt', ...`\n",
      "2023/06/15 14:47:24 WARNING mlflow.utils: Truncated the value of the key `model`. Truncated value: `XGBRegressor(base_score=None, booster=None, callbacks=None,\n",
      "             colsample_bylevel=None, colsample_bynode=None,\n",
      "             colsample_bytree=None, early_stopping_rounds=None,\n",
      "             enable_categorical=False, eval_metric=None, feature_types=None,\n",
      "             gamma=None, gpu_id=None, grow_policy=None, importance_type=None,\n",
      "             interaction_constraints=None, learning_rate=None, max_bin=None,\n",
      "             max_cat_threshold=None, max_cat_to_onehot=None,\n",
      "             max_del...`\n",
      "2023/06/15 14:47:24 WARNING mlflow.utils: Truncated the value of the key `preparation__transformers`. Truncated value: `[('tf_cat', OneHotEncoder(handle_unknown='ignore', sparse_output=False), Index(['BuildingType', 'PrimaryPropertyType', 'SecondLargestPropertyUseType',\n",
      "       'ThirdLargestPropertyUseType', 'Address', 'Neighborhood'],\n",
      "      dtype='object')), ('tf_num', RobustScaler(), Index(['YearBuilt', 'ENERGYSTARScore', 'Have_Energy', 'Have_Stream_Energy',\n",
      "       'Have_Electricity_Energy', 'Have_NaturalGas_Energy',\n",
      "       'NumberofBuildings', 'NumberofFloors', 'PropertyGFATotal',\n",
      "       'PropertyGFAParking'...`\n",
      "2023/06/15 14:47:24 WARNING mlflow.utils: Truncated the value of the key `steps`. Truncated value: `[('preparation', ColumnTransformer(transformers=[('tf_cat',\n",
      "                                 OneHotEncoder(handle_unknown='ignore',\n",
      "                                               sparse_output=False),\n",
      "                                 Index(['BuildingType', 'PrimaryPropertyType', 'SecondLargestPropertyUseType',\n",
      "       'ThirdLargestPropertyUseType', 'Address', 'Neighborhood'],\n",
      "      dtype='object')),\n",
      "                                ('tf_num', RobustScaler(),\n",
      "                                 Ind...`\n",
      "2023/06/15 14:47:24 WARNING mlflow.utils: Truncated the value of the key `preparation`. Truncated value: `ColumnTransformer(transformers=[('tf_cat',\n",
      "                                 OneHotEncoder(handle_unknown='ignore',\n",
      "                                               sparse_output=False),\n",
      "                                 Index(['BuildingType', 'PrimaryPropertyType', 'SecondLargestPropertyUseType',\n",
      "       'ThirdLargestPropertyUseType', 'Address', 'Neighborhood'],\n",
      "      dtype='object')),\n",
      "                                ('tf_num', RobustScaler(),\n",
      "                                 Index(['YearBuilt', ...`\n",
      "2023/06/15 14:47:24 WARNING mlflow.utils: Truncated the value of the key `model`. Truncated value: `XGBRegressor(base_score=None, booster=None, callbacks=None,\n",
      "             colsample_bylevel=None, colsample_bynode=None,\n",
      "             colsample_bytree=None, early_stopping_rounds=None,\n",
      "             enable_categorical=False, eval_metric=None, feature_types=None,\n",
      "             gamma=None, gpu_id=None, grow_policy=None, importance_type=None,\n",
      "             interaction_constraints=None, learning_rate=None, max_bin=None,\n",
      "             max_cat_threshold=None, max_cat_to_onehot=None,\n",
      "             max_del...`\n",
      "2023/06/15 14:47:24 WARNING mlflow.utils: Truncated the value of the key `preparation__transformers`. Truncated value: `[('tf_cat', OneHotEncoder(handle_unknown='ignore', sparse_output=False), Index(['BuildingType', 'PrimaryPropertyType', 'SecondLargestPropertyUseType',\n",
      "       'ThirdLargestPropertyUseType', 'Address', 'Neighborhood'],\n",
      "      dtype='object')), ('tf_num', RobustScaler(), Index(['YearBuilt', 'ENERGYSTARScore', 'Have_Energy', 'Have_Stream_Energy',\n",
      "       'Have_Electricity_Energy', 'Have_NaturalGas_Energy',\n",
      "       'NumberofBuildings', 'NumberofFloors', 'PropertyGFATotal',\n",
      "       'PropertyGFAParking'...`\n",
      "2023/06/15 14:47:25 WARNING mlflow.utils.autologging_utils: MLflow autologging encountered a warning: \"/home/dakoro/Data_IA/TP/CO2_Manuel_David/co2/lib/python3.9/site-packages/mlflow/data/pandas_dataset.py:116: UserWarning: Hint: Inferred schema contains integer column(s). Integer columns in Python cannot represent missing values. If your input data contains missing values at inference time, it will be encoded as floats and will cause a schema enforcement error. The best way to avoid this problem is to infer the model schema based on a realistic data sample (training dataset) that includes missing values. Alternatively, you can declare integer columns as doubles (float64) whenever these columns may have missing values. See `Handling Integers With Missing Values <https://www.mlflow.org/docs/latest/models.html#handling-integers-with-missing-values>`_ for more details.\"\n"
     ]
    }
   ],
   "source": [
    "from sklearn.metrics import r2_score\n",
    "result = []\n",
    "for pipe, param in zip(pipe_list, params_list):\n",
    "    grid = GridSearchCV(pipe, param, scoring='r2', cv=5, n_jobs=-1, verbose=2)\n",
    "    model = grid.fit(X_train, y_train)\n",
    "    y_pred = model.predict(X_test)\n",
    "    result.append(r2_score(y_test, y_pred))"
   ]
  },
  {
   "cell_type": "code",
   "execution_count": 227,
   "metadata": {},
   "outputs": [
    {
     "name": "stdout",
     "output_type": "stream",
     "text": [
      "0.5805305120523092\n",
      "0.4849321563783703\n",
      "0.5794233482578544\n"
     ]
    }
   ],
   "source": [
    "for item in result:\n",
    "    print(item)"
   ]
  },
  {
   "cell_type": "code",
   "execution_count": 234,
   "metadata": {},
   "outputs": [
    {
     "name": "stderr",
     "output_type": "stream",
     "text": [
      "/tmp/ipykernel_239762/4080895302.py:3: SettingWithCopyWarning: \n",
      "A value is trying to be set on a copy of a slice from a DataFrame.\n",
      "Try using .loc[row_indexer,col_indexer] = value instead\n",
      "\n",
      "See the caveats in the documentation: https://pandas.pydata.org/pandas-docs/stable/user_guide/indexing.html#returning-a-view-versus-a-copy\n",
      "  X[bool_cols]= X[bool_cols].apply(lambda x: x.apply(lambda x: 1 if x else 0))\n"
     ]
    }
   ],
   "source": [
    "df = df.dropna()\n",
    "X = df[X_cols]\n",
    "X[bool_cols]= X[bool_cols].apply(lambda x: x.apply(lambda x: 1 if x else 0))\n",
    "y = df['SiteEUI_kBtu_sf_']"
   ]
  },
  {
   "cell_type": "code",
   "execution_count": 235,
   "metadata": {},
   "outputs": [],
   "source": [
    "from sklearn.model_selection import train_test_split\n",
    "X_train, X_test, y_train, y_test = train_test_split(X, y, train_size=0.8, random_state=42)"
   ]
  },
  {
   "cell_type": "code",
   "execution_count": 236,
   "metadata": {},
   "outputs": [
    {
     "name": "stdout",
     "output_type": "stream",
     "text": [
      "Fitting 5 folds for each of 3 candidates, totalling 15 fits\n",
      "[CV] END ................................model__max_iter=300; total time= 3.9min\n",
      "[CV] END ................................model__max_iter=300; total time= 4.1min\n",
      "[CV] END ................................model__max_iter=300; total time= 4.2min\n",
      "[CV] END ................................model__max_iter=300; total time= 4.2min\n",
      "[CV] END ................................model__max_iter=300; total time= 4.6min\n",
      "[CV] END ................................model__max_iter=400; total time= 5.1min\n",
      "[CV] END ................................model__max_iter=400; total time= 5.2min\n",
      "[CV] END ................................model__max_iter=400; total time= 5.4min\n",
      "[CV] END ................................model__max_iter=400; total time= 4.8min\n",
      "[CV] END ................................model__max_iter=400; total time= 4.6min\n",
      "[CV] END ................................model__max_iter=500; total time= 5.6min\n",
      "[CV] END ................................model__max_iter=500; total time= 5.7min\n",
      "[CV] END ................................model__max_iter=500; total time= 4.9min\n",
      "[CV] END ................................model__max_iter=500; total time= 5.2min\n",
      "[CV] END ................................model__max_iter=500; total time= 5.8min\n"
     ]
    },
    {
     "name": "stderr",
     "output_type": "stream",
     "text": [
      "2023/06/15 15:12:42 WARNING mlflow.utils.autologging_utils: Encountered unexpected error during sklearn autologging: '/home/dakoro/Data_IA/TP/CO2_Manuel_David/mlruns' does not exist.\n"
     ]
    },
    {
     "name": "stdout",
     "output_type": "stream",
     "text": [
      "Fitting 5 folds for each of 2 candidates, totalling 10 fits\n",
      "[CV] END .................................model__solver=auto; total time=   3.1s\n",
      "[CV] END .................................model__solver=auto; total time=   3.2s\n",
      "[CV] END .................................model__solver=auto; total time=   3.3s\n",
      "[CV] END .................................model__solver=auto; total time=   3.4s\n",
      "[CV] END .................................model__solver=auto; total time=   4.4s\n",
      "[CV] END ..................................model__solver=svd; total time=  25.2s\n",
      "[CV] END ..................................model__solver=svd; total time=  26.1s\n",
      "[CV] END ..................................model__solver=svd; total time=  31.5s\n",
      "[CV] END ..................................model__solver=svd; total time=  23.8s\n",
      "[CV] END ..................................model__solver=svd; total time=  29.7s\n"
     ]
    },
    {
     "name": "stderr",
     "output_type": "stream",
     "text": [
      "2023/06/15 15:13:50 WARNING mlflow.utils.autologging_utils: Encountered unexpected error during sklearn autologging: '/home/dakoro/Data_IA/TP/CO2_Manuel_David/mlruns' does not exist.\n"
     ]
    },
    {
     "name": "stdout",
     "output_type": "stream",
     "text": [
      "Fitting 5 folds for each of 3 candidates, totalling 15 fits\n",
      "[CV] END .................................model__max_depth=8; total time= 2.6min\n",
      "[CV] END .................................model__max_depth=8; total time= 2.6min\n",
      "[CV] END .................................model__max_depth=8; total time= 2.6min\n",
      "[CV] END .................................model__max_depth=8; total time= 2.7min\n",
      "[CV] END .................................model__max_depth=8; total time= 2.7min\n",
      "[CV] END .................................model__max_depth=9; total time= 2.9min\n",
      "[CV] END .................................model__max_depth=9; total time= 3.0min\n",
      "[CV] END .................................model__max_depth=9; total time= 3.0min\n",
      "[CV] END .................................model__max_depth=9; total time= 2.8min\n",
      "[CV] END .................................model__max_depth=9; total time= 2.8min\n",
      "[CV] END ................................model__max_depth=10; total time= 3.0min\n",
      "[CV] END ................................model__max_depth=10; total time= 3.0min\n",
      "[CV] END ................................model__max_depth=10; total time= 3.0min\n",
      "[CV] END ................................model__max_depth=10; total time= 2.8min\n",
      "[CV] END ................................model__max_depth=10; total time= 2.9min\n"
     ]
    },
    {
     "name": "stderr",
     "output_type": "stream",
     "text": [
      "2023/06/15 15:20:17 WARNING mlflow.utils.autologging_utils: Encountered unexpected error during sklearn autologging: '/home/dakoro/Data_IA/TP/CO2_Manuel_David/mlruns' does not exist.\n"
     ]
    }
   ],
   "source": [
    "from sklearn.metrics import r2_score\n",
    "result = []\n",
    "for pipe, param in zip(pipe_list, params_list):\n",
    "    grid = GridSearchCV(pipe, param, scoring='r2', cv=5, n_jobs=-1, verbose=2)\n",
    "    model = grid.fit(X_train, y_train)\n",
    "    y_pred = model.predict(X_test)\n",
    "    result.append(r2_score(y_test, y_pred))"
   ]
  },
  {
   "cell_type": "code",
   "execution_count": 237,
   "metadata": {},
   "outputs": [
    {
     "name": "stdout",
     "output_type": "stream",
     "text": [
      "0.3998399281626386\n",
      "0.37900575625674393\n",
      "0.46395107505662514\n"
     ]
    }
   ],
   "source": [
    "for item in result:\n",
    "    print(item)"
   ]
  }
 ],
 "metadata": {
  "kernelspec": {
   "display_name": "co2",
   "language": "python",
   "name": "python3"
  },
  "language_info": {
   "codemirror_mode": {
    "name": "ipython",
    "version": 3
   },
   "file_extension": ".py",
   "mimetype": "text/x-python",
   "name": "python",
   "nbconvert_exporter": "python",
   "pygments_lexer": "ipython3",
   "version": "3.9.13"
  },
  "orig_nbformat": 4
 },
 "nbformat": 4,
 "nbformat_minor": 2
}
