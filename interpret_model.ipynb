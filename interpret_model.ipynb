{
 "cells": [
  {
   "cell_type": "code",
   "execution_count": 73,
   "metadata": {},
   "outputs": [],
   "source": [
    "\n",
    "import pandas as pd\n",
    "from utils import get_engine\n",
    "from dotenv import load_dotenv\n",
    "from utils import get_df_from_db, interpret_model"
   ]
  },
  {
   "cell_type": "code",
   "execution_count": 74,
   "metadata": {},
   "outputs": [],
   "source": [
    "load_dotenv()\n",
    "engine = get_engine(echo_arg=True)"
   ]
  },
  {
   "cell_type": "code",
   "execution_count": 75,
   "metadata": {},
   "outputs": [
    {
     "name": "stdout",
     "output_type": "stream",
     "text": [
      "2023-06-23 12:39:14,445 INFO sqlalchemy.engine.Engine select pg_catalog.version()\n",
      "2023-06-23 12:39:14,448 INFO sqlalchemy.engine.Engine [raw sql] {}\n",
      "2023-06-23 12:39:14,494 INFO sqlalchemy.engine.Engine select current_schema()\n",
      "2023-06-23 12:39:14,497 INFO sqlalchemy.engine.Engine [raw sql] {}\n",
      "2023-06-23 12:39:14,541 INFO sqlalchemy.engine.Engine show standard_conforming_strings\n",
      "2023-06-23 12:39:14,543 INFO sqlalchemy.engine.Engine [raw sql] {}\n",
      "2023-06-23 12:39:14,587 INFO sqlalchemy.engine.Engine BEGIN (implicit)\n",
      "2023-06-23 12:39:14,597 INFO sqlalchemy.engine.Engine SELECT pg_catalog.pg_class.relname \n",
      "FROM pg_catalog.pg_class JOIN pg_catalog.pg_namespace ON pg_catalog.pg_namespace.oid = pg_catalog.pg_class.relnamespace \n",
      "WHERE pg_catalog.pg_class.relname = %(table_name)s AND pg_catalog.pg_class.relkind = ANY (ARRAY[%(param_1)s, %(param_2)s, %(param_3)s, %(param_4)s, %(param_5)s]) AND pg_catalog.pg_table_is_visible(pg_catalog.pg_class.oid) AND pg_catalog.pg_namespace.nspname != %(nspname_1)s\n",
      "2023-06-23 12:39:14,600 INFO sqlalchemy.engine.Engine [generated in 0.00252s] {'table_name': <sqlalchemy.sql.elements.TextClause object at 0x7f7f037a2b50>, 'param_1': 'r', 'param_2': 'p', 'param_3': 'f', 'param_4': 'v', 'param_5': 'm', 'nspname_1': 'pg_catalog'}\n",
      "2023-06-23 12:39:14,603 INFO sqlalchemy.engine.Engine SELECT * FROM \"CO2_selected_colums_for_lm_no_outlier_prepared_6_colums\"; \n",
      "2023-06-23 12:39:14,605 INFO sqlalchemy.engine.Engine [generated in 0.00253s] {}\n",
      "2023-06-23 12:39:14,808 INFO sqlalchemy.engine.Engine COMMIT\n"
     ]
    },
    {
     "data": {
      "text/plain": [
       "Index(['YearBuilt', 'BuildingType', 'Neighborhood', 'Have_Stream_Energy',\n",
       "       'Have_Electricity_Energy', 'Have_NaturalGas_Energy',\n",
       "       'PrimaryPropertyType', 'NumberofBuildings', 'LargestPropertyUseTypeGFA',\n",
       "       'TotalGHGEmissions', 'SiteEnergyUse_kBtu_',\n",
       "       'LargestPropertyUseTypeGFA_log', 'TotalGHGEmissions_log',\n",
       "       'SiteEnergyUse_kBtu_log'],\n",
       "      dtype='object')"
      ]
     },
     "execution_count": 75,
     "metadata": {},
     "output_type": "execute_result"
    }
   ],
   "source": [
    "df = get_df_from_db(engine)\n",
    "df.columns"
   ]
  },
  {
   "cell_type": "code",
   "execution_count": 76,
   "metadata": {},
   "outputs": [],
   "source": [
    "from sklearn.model_selection import train_test_split"
   ]
  },
  {
   "cell_type": "code",
   "execution_count": 77,
   "metadata": {},
   "outputs": [],
   "source": [
    "y1, y2 = df['TotalGHGEmissions_log'], df['SiteEnergyUse_kBtu_log']\n",
    "X_cols = ['Have_Stream_Energy', 'Have_NaturalGas_Energy', 'PrimaryPropertyType', \n",
    "          'LargestPropertyUseTypeGFA_log']\n",
    "X = df[X_cols]"
   ]
  },
  {
   "cell_type": "code",
   "execution_count": 78,
   "metadata": {},
   "outputs": [
    {
     "data": {
      "text/plain": [
       "(3314, 4)"
      ]
     },
     "execution_count": 78,
     "metadata": {},
     "output_type": "execute_result"
    }
   ],
   "source": [
    "X.shape"
   ]
  },
  {
   "cell_type": "code",
   "execution_count": 79,
   "metadata": {},
   "outputs": [],
   "source": [
    "from sklearn.compose import ColumnTransformer\n",
    "from sklearn.preprocessing import OneHotEncoder, RobustScaler\n",
    "from interpret.glassbox import ExplainableBoostingRegressor, RegressionTree, LinearRegression\n",
    "\n",
    "ebm = ExplainableBoostingRegressor()\n",
    "ebm2 = RegressionTree()\n",
    "ebm3 = LinearRegression()\n",
    "X_cat = X.select_dtypes(include=[object, bool])\n",
    "X_num = X.select_dtypes(exclude=[object, bool])\n",
    "X_train, X_test, y_train, y_test = train_test_split(X, y2, test_size=0.2, random_state=42)\n",
    "preparation = ColumnTransformer(transformers=[\n",
    "    ('tf_cat', OneHotEncoder(sparse_output=False, handle_unknown='ignore'), X_cat.columns),\n",
    "    ('tf_num', RobustScaler(), X_num.columns)\n",
    "])"
   ]
  },
  {
   "cell_type": "code",
   "execution_count": 80,
   "metadata": {},
   "outputs": [
    {
     "name": "stdout",
     "output_type": "stream",
     "text": [
      "(663, 29)\n"
     ]
    },
    {
     "data": {
      "text/html": [
       "<!-- http://127.0.0.1:7633/140183493889920/ -->\n",
       "<a href=\"http://127.0.0.1:7633/140183493889920/\" target=\"_new\">Open in new window</a><iframe src=\"http://127.0.0.1:7633/140183493889920/\" width=100% height=800 frameBorder=\"0\"></iframe>"
      ]
     },
     "metadata": {},
     "output_type": "display_data"
    },
    {
     "data": {
      "text/html": [
       "<!-- http://127.0.0.1:7633/140183490490944/ -->\n",
       "<a href=\"http://127.0.0.1:7633/140183490490944/\" target=\"_new\">Open in new window</a><iframe src=\"http://127.0.0.1:7633/140183490490944/\" width=100% height=800 frameBorder=\"0\"></iframe>"
      ]
     },
     "metadata": {},
     "output_type": "display_data"
    },
    {
     "data": {
      "text/html": [
       "<!-- http://127.0.0.1:7633/140183489553536/ -->\n",
       "<a href=\"http://127.0.0.1:7633/140183489553536/\" target=\"_new\">Open in new window</a><iframe src=\"http://127.0.0.1:7633/140183489553536/\" width=100% height=800 frameBorder=\"0\"></iframe>"
      ]
     },
     "metadata": {},
     "output_type": "display_data"
    }
   ],
   "source": [
    "from interpret import show\n",
    "X_tf_train = preparation.fit_transform(X_train)\n",
    "X_tf_test = preparation.fit_transform(X_test)\n",
    "names = preparation.get_feature_names_out(X_cols)\n",
    "print(X_tf_test.shape)\n",
    "\n",
    "df_train = pd.DataFrame(data=X_tf_train, columns=names)\n",
    "df_test = pd.DataFrame(data=X_tf_test, columns=names)\n",
    "\n",
    "models = [ebm, ebm2, ebm3]\n",
    "\n",
    "for model in models:\n",
    "    interpret_model(model, names, df_train, y_train, df_test, y_test)"
   ]
  }
 ],
 "metadata": {
  "kernelspec": {
   "display_name": "co2",
   "language": "python",
   "name": "python3"
  },
  "language_info": {
   "codemirror_mode": {
    "name": "ipython",
    "version": 3
   },
   "file_extension": ".py",
   "mimetype": "text/x-python",
   "name": "python",
   "nbconvert_exporter": "python",
   "pygments_lexer": "ipython3",
   "version": "3.9.13"
  },
  "orig_nbformat": 4
 },
 "nbformat": 4,
 "nbformat_minor": 2
}
