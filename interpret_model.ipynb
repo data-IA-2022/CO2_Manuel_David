{
 "cells": [
  {
   "cell_type": "code",
   "execution_count": 4,
   "metadata": {},
   "outputs": [],
   "source": [
    "import pandas as pd\n",
    "from utils import get_engine\n",
    "from dotenv import load_dotenv\n",
    "from sqlalchemy import text\n",
    "from sklearn.model_selection import GridSearchCV\n",
    "import matplotlib.pyplot as plt\n",
    "from utils import get_df_from_db"
   ]
  },
  {
   "cell_type": "code",
   "execution_count": 5,
   "metadata": {},
   "outputs": [],
   "source": [
    "load_dotenv()\n",
    "engine = get_engine(echo_arg=True)"
   ]
  },
  {
   "cell_type": "code",
   "execution_count": 6,
   "metadata": {},
   "outputs": [
    {
     "name": "stdout",
     "output_type": "stream",
     "text": [
      "2023-06-20 14:29:37,514 INFO sqlalchemy.engine.Engine select pg_catalog.version()\n",
      "2023-06-20 14:29:37,516 INFO sqlalchemy.engine.Engine [raw sql] {}\n",
      "2023-06-20 14:29:37,559 INFO sqlalchemy.engine.Engine select current_schema()\n",
      "2023-06-20 14:29:37,562 INFO sqlalchemy.engine.Engine [raw sql] {}\n",
      "2023-06-20 14:29:37,608 INFO sqlalchemy.engine.Engine show standard_conforming_strings\n",
      "2023-06-20 14:29:37,611 INFO sqlalchemy.engine.Engine [raw sql] {}\n",
      "2023-06-20 14:29:37,651 INFO sqlalchemy.engine.Engine BEGIN (implicit)\n",
      "2023-06-20 14:29:37,663 INFO sqlalchemy.engine.Engine SELECT pg_catalog.pg_class.relname \n",
      "FROM pg_catalog.pg_class JOIN pg_catalog.pg_namespace ON pg_catalog.pg_namespace.oid = pg_catalog.pg_class.relnamespace \n",
      "WHERE pg_catalog.pg_class.relname = %(table_name)s AND pg_catalog.pg_class.relkind = ANY (ARRAY[%(param_1)s, %(param_2)s, %(param_3)s, %(param_4)s, %(param_5)s]) AND pg_catalog.pg_table_is_visible(pg_catalog.pg_class.oid) AND pg_catalog.pg_namespace.nspname != %(nspname_1)s\n",
      "2023-06-20 14:29:37,667 INFO sqlalchemy.engine.Engine [generated in 0.00431s] {'table_name': <sqlalchemy.sql.elements.TextClause object at 0x7ff3522e50d0>, 'param_1': 'r', 'param_2': 'p', 'param_3': 'f', 'param_4': 'v', 'param_5': 'm', 'nspname_1': 'pg_catalog'}\n",
      "2023-06-20 14:29:37,679 INFO sqlalchemy.engine.Engine SELECT * FROM \"CO2_selected_colums_for_lm_no_outlier_prepared_6_colums\"; \n",
      "2023-06-20 14:29:37,683 INFO sqlalchemy.engine.Engine [generated in 0.00404s] {}\n"
     ]
    },
    {
     "name": "stdout",
     "output_type": "stream",
     "text": [
      "2023-06-20 14:29:37,925 INFO sqlalchemy.engine.Engine COMMIT\n"
     ]
    }
   ],
   "source": [
    "df = get_df_from_db(engine)"
   ]
  },
  {
   "cell_type": "code",
   "execution_count": 7,
   "metadata": {},
   "outputs": [],
   "source": [
    "from sklearn.model_selection import train_test_split\n",
    "from sklearn.metrics import r2_score\n",
    "from interpret.glassbox import LogisticRegression\n",
    "from interpret import show"
   ]
  },
  {
   "cell_type": "code",
   "execution_count": 8,
   "metadata": {},
   "outputs": [
    {
     "name": "stderr",
     "output_type": "stream",
     "text": [
      "/tmp/ipykernel_541175/582719829.py:6: SettingWithCopyWarning: \n",
      "A value is trying to be set on a copy of a slice from a DataFrame.\n",
      "Try using .loc[row_indexer,col_indexer] = value instead\n",
      "\n",
      "See the caveats in the documentation: https://pandas.pydata.org/pandas-docs/stable/user_guide/indexing.html#returning-a-view-versus-a-copy\n",
      "  X[bool_cols] = X[bool_cols].apply(lambda x: x.apply(lambda x: 1 if x==True else 0))\n"
     ]
    }
   ],
   "source": [
    "y1, y2 = df['TotalGHGEmissions_log'], df['SiteEnergyUse_kBtu_log']\n",
    "X_cols = ['Have_Stream_Energy','Have_NaturalGas_Energy', 'PrimaryPropertyType', \n",
    "          'NumberofBuildings','LargestPropertyUseTypeGFA_log']\n",
    "X = df[X_cols]\n",
    "bool_cols = ['Have_Stream_Energy', 'Have_NaturalGas_Energy']\n",
    "X[bool_cols] = X[bool_cols].apply(lambda x: x.apply(lambda x: 1 if x==True else 0))"
   ]
  },
  {
   "cell_type": "code",
   "execution_count": 9,
   "metadata": {},
   "outputs": [],
   "source": [
    "from sklearn.pipeline import Pipeline\n",
    "from sklearn.compose import ColumnTransformer\n",
    "from sklearn.preprocessing import OneHotEncoder, RobustScaler\n",
    "from interpret.glassbox import ExplainableBoostingRegressor, RegressionTree\n",
    "ebm = ExplainableBoostingRegressor()\n",
    "ebm2 = RegressionTree()\n",
    "X_cat = X.select_dtypes(include=[object])\n",
    "X_num = X.select_dtypes(exclude=[object])\n",
    "X_train, X_test, y_train, y_test = train_test_split(X, y1, test_size=0.2, random_state=42)\n",
    "preparation = ColumnTransformer(transformers=[\n",
    "    ('tf_cat', OneHotEncoder(sparse_output=False, handle_unknown='ignore'), X_cat.columns),\n",
    "    ('tf_num', RobustScaler(), X_num.columns)\n",
    "])"
   ]
  },
  {
   "cell_type": "code",
   "execution_count": 10,
   "metadata": {},
   "outputs": [
    {
     "name": "stdout",
     "output_type": "stream",
     "text": [
      "['tf_cat__PrimaryPropertyType_Distribution Center'\n",
      " 'tf_cat__PrimaryPropertyType_High-Rise Multifamily'\n",
      " 'tf_cat__PrimaryPropertyType_Hospital'\n",
      " 'tf_cat__PrimaryPropertyType_Hotel'\n",
      " 'tf_cat__PrimaryPropertyType_K-12 School'\n",
      " 'tf_cat__PrimaryPropertyType_Laboratory'\n",
      " 'tf_cat__PrimaryPropertyType_Large Office'\n",
      " 'tf_cat__PrimaryPropertyType_Low-Rise Multifamily'\n",
      " 'tf_cat__PrimaryPropertyType_Medical Office'\n",
      " 'tf_cat__PrimaryPropertyType_Mid-Rise Multifamily'\n",
      " 'tf_cat__PrimaryPropertyType_Mixed Use Property'\n",
      " 'tf_cat__PrimaryPropertyType_Office' 'tf_cat__PrimaryPropertyType_Other'\n",
      " 'tf_cat__PrimaryPropertyType_Refrigerated Warehouse'\n",
      " 'tf_cat__PrimaryPropertyType_Residence Hall'\n",
      " 'tf_cat__PrimaryPropertyType_Restaurant'\n",
      " 'tf_cat__PrimaryPropertyType_Retail Store'\n",
      " 'tf_cat__PrimaryPropertyType_Self-Storage Facility'\n",
      " 'tf_cat__PrimaryPropertyType_Senior Care Community'\n",
      " 'tf_cat__PrimaryPropertyType_Small- and Mid-Sized Office'\n",
      " 'tf_cat__PrimaryPropertyType_Supermarket / Grocery Store'\n",
      " 'tf_cat__PrimaryPropertyType_University'\n",
      " 'tf_cat__PrimaryPropertyType_Warehouse'\n",
      " 'tf_cat__PrimaryPropertyType_Worship Facility'\n",
      " 'tf_num__Have_Stream_Energy' 'tf_num__Have_NaturalGas_Energy'\n",
      " 'tf_num__NumberofBuildings' 'tf_num__LargestPropertyUseTypeGFA_log']\n"
     ]
    },
    {
     "data": {
      "text/html": [
       "<!-- http://127.0.0.1:7001/140683006760512/ -->\n",
       "<iframe src=\"http://127.0.0.1:7001/140683006760512/\" width=100% height=800 frameBorder=\"0\"></iframe>"
      ]
     },
     "metadata": {},
     "output_type": "display_data"
    }
   ],
   "source": [
    "from interpret import show\n",
    "X_tf = preparation.fit_transform(X_train)\n",
    "names = preparation.get_feature_names_out(['Have_Stream_Energy','Have_NaturalGas_Energy', 'PrimaryPropertyType', \n",
    "          'NumberofBuildings','LargestPropertyUseTypeGFA_log'])\n",
    "print(names)\n",
    "df_process = pd.DataFrame(data=X_tf, columns=names)\n",
    "ebm2.fit(df_process, y_train)\n",
    "ebm_global = ebm2.explain_global()\n",
    "show(ebm_global)"
   ]
  }
 ],
 "metadata": {
  "kernelspec": {
   "display_name": "co2",
   "language": "python",
   "name": "python3"
  },
  "language_info": {
   "codemirror_mode": {
    "name": "ipython",
    "version": 3
   },
   "file_extension": ".py",
   "mimetype": "text/x-python",
   "name": "python",
   "nbconvert_exporter": "python",
   "pygments_lexer": "ipython3",
   "version": "3.9.13"
  },
  "orig_nbformat": 4
 },
 "nbformat": 4,
 "nbformat_minor": 2
}
